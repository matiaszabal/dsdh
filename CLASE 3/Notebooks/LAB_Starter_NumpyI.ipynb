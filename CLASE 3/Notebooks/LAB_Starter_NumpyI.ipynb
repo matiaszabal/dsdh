{
 "cells": [
  {
   "cell_type": "markdown",
   "metadata": {},
   "source": [
    "## Lab: Datasets & NumPy - csv's, funciones, numpy y distribuciones\n",
    "\n",
    "Ejecuta la celda de abajo para cargar los paquetes requeridos"
   ]
  },
  {
   "cell_type": "code",
   "execution_count": null,
   "metadata": {
    "collapsed": true
   },
   "outputs": [],
   "source": [
    "import numpy as np\n",
    "import scipy.stats as stats\n",
    "import csv\n",
    "import seaborn as sns\n",
    "%matplotlib inline"
   ]
  },
  {
   "cell_type": "markdown",
   "metadata": {},
   "source": [
    "### Datos de ventas\n",
    "\n",
    "Para este Lab vamos a usar una versión resumidade un dataset que contiente información sobre ventas de establecimientos económicos que analizaremos en detalle más adelante.\n",
    "\n",
    "El csv tiene alrededor de 200 filas de datos y 4 columnas. El path especificado del csv ```sales_info.csv``` asume que se encuentra en el mismo directorio que la presente notebook. En caso que lo hayas descargado en otro directorio deberás hacer referencia de manera relativa o absoluta (googlear linux path examples relativa / absolute)."
   ]
  },
  {
   "cell_type": "code",
   "execution_count": null,
   "metadata": {
    "collapsed": true
   },
   "outputs": [],
   "source": []
  },
  {
   "cell_type": "markdown",
   "metadata": {},
   "source": [
    "#### 1. Carga de datos\n",
    "\n",
    "Crear una lista vacía llamada ```rows```.\n",
    "\n",
    "Utilizando  el patrón para cargar csv's que ya vimos en encuentros anteriores, levantar todas las filas del csv a la lista ```rows```.\n",
    "\n",
    "\n",
    "Como referencia, el patrón es:\n",
    "```python\n",
    "with open(my_csv_path, 'r') as f:\n",
    "    reader = csv.reader(f)\n",
    "    ...\n",
    "```\n",
    "\n",
    "Más allá de esto, el trabajo de agregar las filas del archivo csv a la lista  ```rows``` es todo tuyo :)"
   ]
  },
  {
   "cell_type": "code",
   "execution_count": null,
   "metadata": {
    "collapsed": true
   },
   "outputs": [],
   "source": []
  },
  {
   "cell_type": "markdown",
   "metadata": {},
   "source": [
    "#### 2. Separar el encabezado y los datos\n",
    "\n",
    "El encabezado del csv está contenido en el primer índice de la variable ```rows```, dado que es la primera fila en el archivo csv.\n",
    "\n",
    "Utilizar indexación de Python (ver slicing en https://docs.python.org/2/tutorial/introduction.html) para crear dos nuevas variables: ```header``` que contiene las títulos o nombres de las 4 columnas y ```data``` que contiene la lista de listas. A su vez, cada sublista representa una fila del csv.\n",
    "\n",
    "Por último, imprimir ```header``` para ver los nombres de las columnas."
   ]
  },
  {
   "cell_type": "code",
   "execution_count": null,
   "metadata": {
    "collapsed": true
   },
   "outputs": [],
   "source": []
  },
  {
   "cell_type": "markdown",
   "metadata": {},
   "source": [
    "#### 3. Crear un diccionario con los datos\n",
    "\n",
    "Utilizar loops(por ejemplo for) o listas por comprensión para crear un diccionario ```sales_data```, donde las claves del diccionario sean los nombres de las columnas y los valores del diccionario sean las listas de datos correspondientes a cada nombre de columna."
   ]
  },
  {
   "cell_type": "code",
   "execution_count": null,
   "metadata": {
    "collapsed": true
   },
   "outputs": [],
   "source": []
  },
  {
   "cell_type": "markdown",
   "metadata": {},
   "source": [
    "##### 3.A Imprimir los 10 primeros items de la columna 'volume_sold'."
   ]
  },
  {
   "cell_type": "code",
   "execution_count": null,
   "metadata": {
    "collapsed": true
   },
   "outputs": [],
   "source": []
  },
  {
   "cell_type": "markdown",
   "metadata": {},
   "source": [
    "#### 4.  Convertir los datos de string a float\n",
    "\n",
    "Nota: float es un tipo de datos que representa valores numéricos con \"parte\" decimal, por ejemplo 1.23 o -10.34552.\n",
    "\n",
    "Como se puede apreciar, los datos están en formato string (que es cómo son leídos por defecto del archivo csv). Para cada par key:value en nuestro diccionario ```sales_data```, convertir los valores (es decir los valores de cada columna) que ahora están en string a valores float.\n",
    "\n",
    "**Nota:** Para convertir un string que representa un float se puede utilizar la función ```float```. Por ejemplo, ```float('12')``` devuelve 12 (un literal/constante del tipo de datos float)"
   ]
  },
  {
   "cell_type": "code",
   "execution_count": null,
   "metadata": {
    "collapsed": true
   },
   "outputs": [],
   "source": []
  },
  {
   "cell_type": "markdown",
   "metadata": {},
   "source": [
    "#### 5. Escribir una función para imprimir la información resumida\n",
    "\n",
    "La función debería:\n",
    "\n",
    "- Tomar dos parámetros: el nombre de la columna y los datos asociados con esa columna\n",
    "- Imprimir la información, indicando de forma clara en qué consiste cada item que se imprime:\n",
    "    1. Imprimir el nombre de la columna\n",
    "    2. Imprimir la media de los datos usando ```np.mean()```\n",
    "    3. Imprimir la mediana de los datos usando ```np.median()``` \n",
    "    4. Imprimir la moda de los datos redondeados usando ```stats.mode()```\n",
    "    5. Imprimir la varianza de los datos usando ```np.var()```\n",
    "    6. Imprimir el desvío estándar de los datos usando ```np.std()```\n",
    "\n",
    "Tener en cuenta que será necesario convertir los valores numéricos retornados por etas funciones a strings. Para ello usar la función ```str()```."
   ]
  },
  {
   "cell_type": "code",
   "execution_count": null,
   "metadata": {
    "collapsed": true,
    "scrolled": true
   },
   "outputs": [],
   "source": []
  },
  {
   "cell_type": "markdown",
   "metadata": {},
   "source": [
    "##### **5.A** Usando la función definida, imprimir las medidas para 'volume_sold'"
   ]
  },
  {
   "cell_type": "code",
   "execution_count": null,
   "metadata": {
    "collapsed": true
   },
   "outputs": [],
   "source": []
  },
  {
   "cell_type": "markdown",
   "metadata": {},
   "source": [
    "##### **5.B** Usando la función definida, imprimir las medidas para '2015_margin'"
   ]
  },
  {
   "cell_type": "code",
   "execution_count": null,
   "metadata": {
    "collapsed": true
   },
   "outputs": [],
   "source": []
  },
  {
   "cell_type": "markdown",
   "metadata": {},
   "source": [
    "##### **5.C** Usando la función definida, imprimir las medidas para '2015_q1_sales'"
   ]
  },
  {
   "cell_type": "code",
   "execution_count": null,
   "metadata": {
    "collapsed": true
   },
   "outputs": [],
   "source": []
  },
  {
   "cell_type": "markdown",
   "metadata": {},
   "source": [
    "##### **5.D** Usando la función definida, imprimir las medidas para '2016_q1_sales'"
   ]
  },
  {
   "cell_type": "code",
   "execution_count": null,
   "metadata": {
    "collapsed": true
   },
   "outputs": [],
   "source": []
  },
  {
   "cell_type": "markdown",
   "metadata": {},
   "source": [
    "#### 6. Graficar las distribuciones\n",
    "\n",
    "Hemos provisto una función para graficar más abajo llamado ```distribution_plotter()```. Toma dos parámetros, el nombre de la columna y los datos asociados a dicha columna.\n",
    "\n",
    "En celdas individuales, graficar las distribuciones de cada una de las 4 columnas. ¿Los datos son asimétricos? ¿simétricos?"
   ]
  },
  {
   "cell_type": "code",
   "execution_count": null,
   "metadata": {
    "collapsed": true
   },
   "outputs": [],
   "source": [
    "def distribution_plotter(column, data):\n",
    "    sns.set(rc={\"figure.figsize\": (10, 7)})\n",
    "    sns.set_style(\"white\")\n",
    "    dist = sns.distplot(data, hist_kws={'alpha':0.2}, kde_kws={'linewidth':5})\n",
    "    dist.set_title('Distribucion de ' + column + '\\n', fontsize=16)"
   ]
  },
  {
   "cell_type": "code",
   "execution_count": null,
   "metadata": {
    "collapsed": true
   },
   "outputs": [],
   "source": []
  }
 ],
 "metadata": {
  "kernelspec": {
   "display_name": "Python 3",
   "language": "python",
   "name": "python3"
  },
  "language_info": {
   "codemirror_mode": {
    "name": "ipython",
    "version": 3
   },
   "file_extension": ".py",
   "mimetype": "text/x-python",
   "name": "python",
   "nbconvert_exporter": "python",
   "pygments_lexer": "ipython3",
   "version": "3.6.1"
  }
 },
 "nbformat": 4,
 "nbformat_minor": 1
}
