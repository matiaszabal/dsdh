{
 "cells": [
  {
   "cell_type": "markdown",
   "metadata": {},
   "source": [
    "# Práctica Bonus - SOLUTION"
   ]
  },
  {
   "cell_type": "markdown",
   "metadata": {},
   "source": [
    "### Ejercicio 1"
   ]
  },
  {
   "cell_type": "code",
   "execution_count": null,
   "metadata": {
    "collapsed": true
   },
   "outputs": [],
   "source": [
    "#Dada una lista invertirla respetando la restricción que pueden ocurrir a lo sumo n/2 iteraciones\n",
    "#donde n es la cantidad de elementos en la lista (es decir que por ejemplo recorrer la lista del final \n",
    "#al principio no es valido ya que se estaría iterando n veces)"
   ]
  },
  {
   "cell_type": "code",
   "execution_count": null,
   "metadata": {
    "collapsed": true
   },
   "outputs": [],
   "source": [
    "def invertls(ls):\n",
    "    ln = len(ls) - 1\n",
    "    for n in range(0, int(ln/2 + 1)):\n",
    "        ls[n], ls[ln-n] = ls[ln-n], ls[n]\n",
    "    return (ls)"
   ]
  },
  {
   "cell_type": "code",
   "execution_count": 8,
   "metadata": {},
   "outputs": [
    {
     "data": {
      "text/plain": [
       "[8, 7, 5, 3, 1]"
      ]
     },
     "execution_count": 8,
     "metadata": {},
     "output_type": "execute_result"
    }
   ],
   "source": [
    "invertls([1, 3, 5, 7, 8])"
   ]
  },
  {
   "cell_type": "markdown",
   "metadata": {},
   "source": [
    "### Ejercicio 5"
   ]
  },
  {
   "cell_type": "code",
   "execution_count": 9,
   "metadata": {
    "collapsed": true
   },
   "outputs": [],
   "source": [
    "#Dada una lista de numeros generar una nueva version de la lista ordenada.\n",
    "#Nota: no se pueden utilizar funciones como .sort(). Debe ser implementado \"a mano\""
   ]
  },
  {
   "cell_type": "code",
   "execution_count": 14,
   "metadata": {
    "collapsed": true
   },
   "outputs": [],
   "source": [
    "def orderls(ls):\n",
    "    for n in range(len(ls)):\n",
    "        for i in range(len(ls)-1, 0, -1):\n",
    "            j = i-1\n",
    "            while ls[i] < ls[j]:\n",
    "                ls[i], ls[j] = ls[j], ls[i]\n",
    "                i -= 1\n",
    "    return ls"
   ]
  },
  {
   "cell_type": "code",
   "execution_count": 10,
   "metadata": {
    "scrolled": true
   },
   "outputs": [
    {
     "data": {
      "text/plain": [
       "[1, 2, 3, 4, 5, 6, 8]"
      ]
     },
     "execution_count": 10,
     "metadata": {},
     "output_type": "execute_result"
    }
   ],
   "source": [
    "orderls([3, 6, 1, 5, 2, 8, 4])"
   ]
  },
  {
   "cell_type": "markdown",
   "metadata": {},
   "source": [
    "### Ejercicio 6"
   ]
  },
  {
   "cell_type": "code",
   "execution_count": 11,
   "metadata": {
    "collapsed": true
   },
   "outputs": [],
   "source": [
    "#Dada una lista de numeros que ya está ordenada de menor a mayor implementar una funcion que indica si un elemento\n",
    "#dado pertenece o no pertenece a la lista. Restricción: Se pueden inspeccionar a lo sumo log2 n de elementos \n",
    "# de la lista donde n es la cantidad de elementos de la lista."
   ]
  },
  {
   "cell_type": "code",
   "execution_count": 15,
   "metadata": {
    "collapsed": true
   },
   "outputs": [],
   "source": [
    "def isit(ls, n):\n",
    "    while len(ls) > 4: \n",
    "        #print(ls)\n",
    "        l = len(ls)\n",
    "        if n > ls[int(l/2)]:\n",
    "            ls = ls[int(l/2):]\n",
    "        else:\n",
    "            ls = ls[:int(l/2)]\n",
    "    #print(ls)\n",
    "    return n in ls"
   ]
  },
  {
   "cell_type": "code",
   "execution_count": 16,
   "metadata": {},
   "outputs": [
    {
     "data": {
      "text/plain": [
       "False"
      ]
     },
     "execution_count": 16,
     "metadata": {},
     "output_type": "execute_result"
    }
   ],
   "source": [
    "isit([1, 2, 4, 6, 7, 8, 15, 25, 33, 34, 35, 77, 104], 24)"
   ]
  }
 ],
 "metadata": {
  "kernelspec": {
   "display_name": "Python 3",
   "language": "python",
   "name": "python3"
  },
  "language_info": {
   "codemirror_mode": {
    "name": "ipython",
    "version": 3
   },
   "file_extension": ".py",
   "mimetype": "text/x-python",
   "name": "python",
   "nbconvert_exporter": "python",
   "pygments_lexer": "ipython3",
   "version": "3.6.1"
  }
 },
 "nbformat": 4,
 "nbformat_minor": 2
}
