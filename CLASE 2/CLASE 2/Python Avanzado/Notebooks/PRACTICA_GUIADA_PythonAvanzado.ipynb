{
 "cells": [
  {
   "cell_type": "markdown",
   "metadata": {},
   "source": [
    "# Python Avanzado"
   ]
  },
  {
   "cell_type": "markdown",
   "metadata": {},
   "source": [
    "## Tuplas, listas y diccionarios"
   ]
  },
  {
   "cell_type": "code",
   "execution_count": null,
   "metadata": {},
   "outputs": [],
   "source": [
    "alumno = (\"Fernando\",\"Gonzalez\",26)\n",
    "alumno"
   ]
  },
  {
   "cell_type": "markdown",
   "metadata": {},
   "source": [
    "Si quisiera guardar los datos de todos mis alumnos utilizo una lista de tuplas:"
   ]
  },
  {
   "cell_type": "code",
   "execution_count": null,
   "metadata": {},
   "outputs": [],
   "source": [
    "alumnos = [(\"Fernando\",\"Gonzalez\",26),(\"Florencia\",\"Martinez\",32),(\"Florencia\",\"Martinez\",32)]\n",
    "alumnos"
   ]
  },
  {
   "cell_type": "code",
   "execution_count": null,
   "metadata": {},
   "outputs": [],
   "source": [
    "curso={\"ayudante\":(\"Javier\",\"Rodriguez\",32),\"profesor\":(\"Marisol\",\"Andrade\",39)}\n",
    "curso"
   ]
  },
  {
   "cell_type": "markdown",
   "metadata": {},
   "source": [
    "### 2- Definición de funciones"
   ]
  },
  {
   "cell_type": "code",
   "execution_count": null,
   "metadata": {},
   "outputs": [],
   "source": [
    "# Escribir una función que recibe la longitud del lado de un cuadrado y retorna el área del cuadrado\n",
    "def areaSquare(lado): \n",
    "    return lado ** 2"
   ]
  },
  {
   "cell_type": "code",
   "execution_count": null,
   "metadata": {
    "collapsed": true
   },
   "outputs": [],
   "source": [
    "# Escribir una función que recibe el largo, ancho y profundidad de un ”cuboide” y retorna el área de la superficie del ”cuboide”\n",
    "def surfaceAreaCuboid(largo,ancho,profundidad): \n",
    "    superficie = 2 * (largo*ancho+largo*profundidad+ancho*profundidad)\n",
    "    return superficie"
   ]
  },
  {
   "cell_type": "markdown",
   "metadata": {},
   "source": [
    "Ahora llamamos a las funciones definidas anteriormente"
   ]
  },
  {
   "cell_type": "code",
   "execution_count": null,
   "metadata": {
    "collapsed": true
   },
   "outputs": [],
   "source": [
    "areaSquare(3)"
   ]
  },
  {
   "cell_type": "code",
   "execution_count": null,
   "metadata": {
    "collapsed": true
   },
   "outputs": [],
   "source": [
    "surfaceAreaCuboid(1,3,5)"
   ]
  },
  {
   "cell_type": "markdown",
   "metadata": {},
   "source": [
    "### 3 - Listas por comprensión\n",
    "\n",
    "### Listas básicas por comprensión\n",
    "\n"
   ]
  },
  {
   "cell_type": "markdown",
   "metadata": {},
   "source": [
    "#### ¿Qué son las listas por comprensión?\n",
    "\n",
    "Las listas por comprensión son sentencias que realizan algún tipo de operación en cada elemento de una lista. Vamos a empezar con una simple lista de números:"
   ]
  },
  {
   "cell_type": "code",
   "execution_count": null,
   "metadata": {
    "collapsed": true
   },
   "outputs": [],
   "source": [
    "numbers = [0,1,2,3,4,5,6,7,8,9]"
   ]
  },
  {
   "cell_type": "markdown",
   "metadata": {},
   "source": [
    "Supongamos que queremos sumar 1 a cada elemento de la lista. Podríamos hacer esto de diferentes\n",
    "maneras sin utilizar listas por comrensión. Podríamos utilizar un for:"
   ]
  },
  {
   "cell_type": "code",
   "execution_count": null,
   "metadata": {
    "collapsed": true
   },
   "outputs": [],
   "source": [
    "nums_plus_one = []\n",
    "for num in numbers:\n",
    "  nums_plus_one.append(num+1)"
   ]
  },
  {
   "cell_type": "code",
   "execution_count": null,
   "metadata": {},
   "outputs": [],
   "source": [
    "nums_plus_one"
   ]
  },
  {
   "cell_type": "markdown",
   "metadata": {},
   "source": [
    "Por suerte tenemos las listas por comprensión"
   ]
  },
  {
   "cell_type": "code",
   "execution_count": null,
   "metadata": {
    "collapsed": true
   },
   "outputs": [],
   "source": [
    "nums_plus_one = [x+1 for x in numbers]"
   ]
  },
  {
   "cell_type": "code",
   "execution_count": null,
   "metadata": {},
   "outputs": [],
   "source": [
    "nums_plus_one"
   ]
  },
  {
   "cell_type": "markdown",
   "metadata": {},
   "source": [
    "Vayamos al detalle de cómo esto funciona:\n",
    "* Tal como la sentencia map, num_plus_one es asignada a izquierda como una nueva variable\n",
    "* Las listas por comprensión retornan una lista, y la sentencia está envuelto en corchetes: [...]\n",
    "* Entre los corchetes la estructura es similar a la de un loop for:\n",
    "    1. La **operación por elemento** viene primero: x+1\n",
    "    2. Luego está la **variable de asignación de la iteración**: for x\n",
    "    3. Por último, la **la lista de elementos sobre la cual iterar**: in numbers"
   ]
  },
  {
   "cell_type": "markdown",
   "metadata": {},
   "source": [
    "### Lógica condicional en las listas por comprensión"
   ]
  },
  {
   "cell_type": "markdown",
   "metadata": {},
   "source": [
    "Las listas por comprensión no sólo sirven para iterar sobre los elementos para aplicarles alguna operación, también se pueden aplicar condiciones. \n",
    "Supongamos que quisieramos \"binarizar\" una variable según si cada elemento es mayor o menor/igual que la mitad de la máxima de todos los elementos. El for para hacer esto podría ser de esta manera:"
   ]
  },
  {
   "cell_type": "code",
   "execution_count": null,
   "metadata": {
    "collapsed": true
   },
   "outputs": [],
   "source": [
    "n = [1, 2, 7, 21, 3, 1, 62, 3, 34, 12, 73, 44, 12, 11, 9]\n",
    "n_bin = []\n",
    "n_max_2 = max(n) / 2\n",
    "for x in n:\n",
    "  if x >= n_max_2:\n",
    "    n_bin.append(1)\n",
    "  else:\n",
    "    n_bin.append(0)"
   ]
  },
  {
   "cell_type": "markdown",
   "metadata": {},
   "source": [
    "Pero esto requiere mucho código. Una lista por comprensión puede hacer lo mismo mucho más fácil:\n",
    "\n",
    "##### 3- A \"Binarizar\" n de manera tal que los valores mayores o iguales a la mitad del máximo de n sean 1, los demás 0"
   ]
  },
  {
   "cell_type": "markdown",
   "metadata": {},
   "source": [
    "Primero veamos cómo se interpreta una expresión condicional en Python"
   ]
  },
  {
   "cell_type": "code",
   "execution_count": null,
   "metadata": {},
   "outputs": [],
   "source": [
    "x = 2\n",
    "print (1 if x > 5 else 0)"
   ]
  },
  {
   "cell_type": "code",
   "execution_count": null,
   "metadata": {},
   "outputs": [],
   "source": [
    "x = 7\n",
    "print (1 if x > 5 else 0)"
   ]
  },
  {
   "cell_type": "markdown",
   "metadata": {},
   "source": [
    "Ahora construimos nuestra lista, usando una lista por comprensión y una expresión condicional"
   ]
  },
  {
   "cell_type": "code",
   "execution_count": null,
   "metadata": {
    "collapsed": true
   },
   "outputs": [],
   "source": [
    "n = [1, 2, 7, 21, 3, 1, 62, 3, 34, 12, 73, 44, 12, 11, 9]\n",
    "n_max_2 = max(n) / 2"
   ]
  },
  {
   "cell_type": "code",
   "execution_count": null,
   "metadata": {
    "collapsed": true
   },
   "outputs": [],
   "source": [
    "n_bin = [1 if x>n_max_2 else 0 for x in n]"
   ]
  },
  {
   "cell_type": "code",
   "execution_count": null,
   "metadata": {},
   "outputs": [],
   "source": [
    "n_bin"
   ]
  },
  {
   "cell_type": "markdown",
   "metadata": {},
   "source": [
    "#### 3- B Filtrar una lista\n",
    "\n",
    "Los condicionales dentro de una lista por comprensión también sirven para filtrar los datos con los que quiero quedarme. En este caso el \"if\" va después del for."
   ]
  },
  {
   "cell_type": "code",
   "execution_count": null,
   "metadata": {
    "collapsed": true
   },
   "outputs": [],
   "source": [
    "n = [100, 2, 423, 42, 15, 87, 67]"
   ]
  },
  {
   "cell_type": "markdown",
   "metadata": {},
   "source": [
    "Queremos obtener únicamente los elementos que están entre 40 y 70"
   ]
  },
  {
   "cell_type": "code",
   "execution_count": null,
   "metadata": {},
   "outputs": [],
   "source": [
    "[num for num in n if 70 >= num >= 40]"
   ]
  },
  {
   "cell_type": "markdown",
   "metadata": {},
   "source": [
    "### Funciones en listas por comprensión\n"
   ]
  },
  {
   "cell_type": "markdown",
   "metadata": {},
   "source": [
    "Podemos realizar operaciones varias listas a la vez. Utilizar las funciones **zip** y **enumerate** junto con listas por comprensión es muy útil. Primero veamos qué hace cada una de estas funciones.\n",
    "\n",
    "**zip** recorre cada elemento de dos listas de manera iterativa al mismo tiempo y combina cada fila de elementos en una tupla:"
   ]
  },
  {
   "cell_type": "code",
   "execution_count": null,
   "metadata": {},
   "outputs": [],
   "source": [
    "a = ['a','b','c','d']\n",
    "z = ['z','y','x','w']\n",
    "\n",
    "zip(a,z)"
   ]
  },
  {
   "cell_type": "code",
   "execution_count": null,
   "metadata": {},
   "outputs": [],
   "source": [
    "zipped = []\n",
    "for a_i, z_i in zip(a, z):\n",
    "  zipped.append([a_i, z_i])\n",
    "\n",
    "zipped"
   ]
  },
  {
   "cell_type": "markdown",
   "metadata": {},
   "source": [
    "#### 3- C Combinar los elementos de estas dos listas en pares (tuplas), item a item\n",
    "Nota: El output a obtener es [('a', 'z'), ('b', 'y'), ('c', 'x'), ('d', 'w')]"
   ]
  },
  {
   "cell_type": "code",
   "execution_count": null,
   "metadata": {
    "collapsed": true
   },
   "outputs": [],
   "source": [
    "a = ['a','b','c','d']\n",
    "z = ['z','y','x','w']"
   ]
  },
  {
   "cell_type": "code",
   "execution_count": null,
   "metadata": {},
   "outputs": [],
   "source": [
    "zipped_lc = [x for x in zip(a,z)]\n",
    "zipped_lc"
   ]
  },
  {
   "cell_type": "markdown",
   "metadata": {},
   "source": [
    "**Nota**: Si sólo queremos obtener una lista de tuplas, podemos usar el constructor list"
   ]
  },
  {
   "cell_type": "code",
   "execution_count": null,
   "metadata": {},
   "outputs": [],
   "source": [
    "list(zip(a,z))"
   ]
  },
  {
   "cell_type": "markdown",
   "metadata": {},
   "source": [
    "#### 3- D Crear una lista de pares (indice, valor)\n",
    "\n",
    "Nota: Usando listas por comprensión claro está :)"
   ]
  },
  {
   "cell_type": "code",
   "execution_count": null,
   "metadata": {
    "collapsed": true
   },
   "outputs": [],
   "source": [
    "a = ['a','b','c','d']"
   ]
  },
  {
   "cell_type": "markdown",
   "metadata": {},
   "source": [
    "**enumerate** lleva el \"registro\" del índice de cada elemento de la lista:"
   ]
  },
  {
   "cell_type": "code",
   "execution_count": null,
   "metadata": {},
   "outputs": [],
   "source": [
    "a = ['a','b','c','d']\n",
    "\n",
    "enumerated = []\n",
    "for i, a_i in enumerate(a):\n",
    "  enumerated.append([i, a_i])\n",
    "\n",
    "enumerated"
   ]
  },
  {
   "cell_type": "markdown",
   "metadata": {},
   "source": [
    "Ahora, usando listas por comprensión:"
   ]
  },
  {
   "cell_type": "code",
   "execution_count": null,
   "metadata": {},
   "outputs": [],
   "source": [
    "enumerated_lc =[x for x in enumerate(a)]\n",
    "enumerated_lc"
   ]
  },
  {
   "cell_type": "markdown",
   "metadata": {},
   "source": [
    "#### 3-E) Para cada elemento de cada lista, calcular la multiplicación del elemento de la primera lista por su índice dividido por el emento de la segunda lista\n",
    "\n",
    "Por ejemplo, dadas estas dos listas:\n",
    "\n",
    "    list_one = [10, 15, 20, 25, 40]\n",
    "    list_two = [1, 2, 3, 4, 5]\n",
    "\n",
    "Retornar:\n",
    "\n",
    "               [0, 7, 13, 18, 32]"
   ]
  },
  {
   "cell_type": "code",
   "execution_count": null,
   "metadata": {
    "collapsed": true
   },
   "outputs": [],
   "source": [
    "list_one = [10, 15, 20, 25, 40]\n",
    "list_two = [1, 2, 3, 4, 5]\n"
   ]
  },
  {
   "cell_type": "code",
   "execution_count": null,
   "metadata": {},
   "outputs": [],
   "source": [
    "math_comp = [int((x*i)/y) for i, (x, y) in enumerate(zip(list_one, list_two))]\n",
    "math_comp"
   ]
  },
  {
   "cell_type": "markdown",
   "metadata": {},
   "source": [
    "### Diccionarios por comprensión"
   ]
  },
  {
   "cell_type": "markdown",
   "metadata": {},
   "source": [
    "La comprensión no está limitada a listas. \n",
    "Podemos utilizar la comprensión para crear diccionarios. \n",
    "Más abajo, un ejemplo donde creamos un diccionario donde cada clave es el nombre de una especie animal y su valor es la longitud de ese nombre."
   ]
  },
  {
   "cell_type": "code",
   "execution_count": null,
   "metadata": {},
   "outputs": [],
   "source": [
    "keys = ['dog', 'cat', 'bird', 'horse']\n",
    "dicc = {k:len(k) for k in keys}\n",
    "dicc"
   ]
  },
  {
   "cell_type": "markdown",
   "metadata": {},
   "source": [
    "##### 3-F) Crear un diccionario que las keys sean los animales y la clave sea el índice de cada letra del nombre del animal en el abecedario\n"
   ]
  },
  {
   "cell_type": "code",
   "execution_count": null,
   "metadata": {
    "collapsed": true
   },
   "outputs": [],
   "source": [
    "def indiceAbecedario(letra):\n",
    "    return ord(letra.lower())-96"
   ]
  },
  {
   "cell_type": "markdown",
   "metadata": {},
   "source": [
    "La función indiceAbecedario retorna a qué número de letra del abecedeario corresponde la letra pasada como parámetro"
   ]
  },
  {
   "cell_type": "code",
   "execution_count": null,
   "metadata": {},
   "outputs": [],
   "source": [
    "indiceAbecedario('b')"
   ]
  },
  {
   "cell_type": "code",
   "execution_count": null,
   "metadata": {
    "collapsed": true
   },
   "outputs": [],
   "source": [
    "keys = ['dog', 'cat', 'bird', 'horse']"
   ]
  },
  {
   "cell_type": "markdown",
   "metadata": {},
   "source": [
    "#### 3-F Crear un diccionario donde las claves sean los nombres de columna y sus valores correspondientes"
   ]
  },
  {
   "cell_type": "code",
   "execution_count": null,
   "metadata": {
    "collapsed": true
   },
   "outputs": [],
   "source": [
    "column_names = ['height','weight','is_male']\n",
    "values = [[62, 54, 60, 50], [180, 120, 200, 100], [True, False, True, False]]"
   ]
  },
  {
   "cell_type": "code",
   "execution_count": null,
   "metadata": {
    "collapsed": true
   },
   "outputs": [],
   "source": []
  }
 ],
 "metadata": {
  "kernelspec": {
   "display_name": "Python 3",
   "language": "python",
   "name": "python3"
  },
  "language_info": {
   "codemirror_mode": {
    "name": "ipython",
    "version": 3
   },
   "file_extension": ".py",
   "mimetype": "text/x-python",
   "name": "python",
   "nbconvert_exporter": "python",
   "pygments_lexer": "ipython3",
   "version": "3.6.1"
  }
 },
 "nbformat": 4,
 "nbformat_minor": 2
}
