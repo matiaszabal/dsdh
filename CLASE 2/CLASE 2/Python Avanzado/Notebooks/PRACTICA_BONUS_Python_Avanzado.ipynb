{
 "cells": [
  {
   "cell_type": "markdown",
   "metadata": {},
   "source": [
    "# Práctica Bonus Python Avanzado"
   ]
  },
  {
   "cell_type": "markdown",
   "metadata": {},
   "source": [
    "### Ejercicio 1"
   ]
  },
  {
   "cell_type": "code",
   "execution_count": null,
   "metadata": {
    "collapsed": true
   },
   "outputs": [],
   "source": [
    "#Dada una lista invertirla respetando la restricción que pueden ocurrir a lo sumo n/2 iteraciones\n",
    "#donde n es la cantidad de elementos en la lista (es decir que por ejemplo recorrer la lista del final \n",
    "#al principio no es valido ya que se estaría iterando n veces)"
   ]
  },
  {
   "cell_type": "markdown",
   "metadata": {},
   "source": [
    "### Ejercicio 2"
   ]
  },
  {
   "cell_type": "code",
   "execution_count": 9,
   "metadata": {
    "collapsed": true
   },
   "outputs": [],
   "source": [
    "#Dada una lista de numeros generar una nueva version de la lista ordenada.\n",
    "#Nota: no se pueden utilizar funciones como .sort(). Debe ser implementado \"a mano\""
   ]
  },
  {
   "cell_type": "markdown",
   "metadata": {},
   "source": [
    "### Ejercicio 3"
   ]
  },
  {
   "cell_type": "code",
   "execution_count": 11,
   "metadata": {
    "collapsed": true
   },
   "outputs": [],
   "source": [
    "#Dada una lista de numeros que ya está ordenada de menor a mayor implementar una funcion que indica si un elemento\n",
    "#dado pertenece o no pertenece a la lista. Restricción: Se pueden inspeccionar a lo sumo log2 n de elementos \n",
    "# de la lista donde n es la cantidad de elementos de la lista."
   ]
  }
 ],
 "metadata": {
  "kernelspec": {
   "display_name": "Python 3",
   "language": "python",
   "name": "python3"
  },
  "language_info": {
   "codemirror_mode": {
    "name": "ipython",
    "version": 3
   },
   "file_extension": ".py",
   "mimetype": "text/x-python",
   "name": "python",
   "nbconvert_exporter": "python",
   "pygments_lexer": "ipython3",
   "version": "3.6.1"
  }
 },
 "nbformat": 4,
 "nbformat_minor": 2
}
