{
 "cells": [
  {
   "cell_type": "markdown",
   "metadata": {},
   "source": [
    "# Desafíos Bonus  #1\n",
    "Creemos que hay un montón de algoritmos y estructuras de datos que son importantes para conocer, que están fuera del alcance de nuestra clase, pero caen en el año 1-2 fundamentales de ciencias de la computación. Sin embargo, con estos ejercicios alternativos, nos sentimos al menos de alguna manera apoyando lo que podría encontrar en entrevistas de trabajo y desafíos de código Python.\n",
    "\n",
    "Estos son completamente ** opcional **, pero si no puede completar estos en el principio, volver a ellos una vez que esté listo.\n",
    "\n",
    "## Requisitos\n",
    "Para estos desafíos, necesitarás tener un conocimiento básico de Python y estar cómodo con el uso fundamental. Para sacar el máximo provecho de estos ejercicios debe evitar el uso de bibliotecas (pero siéntase libre de usar buil-in tipos como: zip ()) tanto como sea posible y tratar de construir soluciones a mano tanto como sea posible. Además, si las soluciones están disponibles, trate de no mirar para sacar el máximo provecho de esto.\n",
    "\n",
    "Sentite libre de buscar y utilizar los recursos en la web, pero tratá de \"regular\" la cantidad de recursos."
   ]
  },
  {
   "cell_type": "markdown",
   "metadata": {},
   "source": [
    "## Desafío opcional 1 - Contando tipos\n",
    "\n",
    "Dada una lista de entrada mixta, implemente un método que cuenta los tipos de elementos e informa de la cantidad de elementos encontrados en la entrada. La salida también puede ser una representación de objeto (ie: diccionario).\n",
    "\n",
    "**Input:**\n",
    "\n",
    "\n",
    "    [5, \"Foo\", (2, 4, 5, 100), {\"fox\": \"mammal\"}, False, True, 2.987, \"Bar\"]\n",
    "\n",
    "\n",
    "\n",
    "**Output:**\n",
    "\n",
    "    int: 1\n",
    "    float: 1\n",
    "    string: 2\n",
    "    tuple: 1\n",
    "    dict: 1\n",
    "    boolean: 2\n"
   ]
  },
  {
   "cell_type": "code",
   "execution_count": 2,
   "metadata": {
    "collapsed": false
   },
   "outputs": [
    {
     "name": "stdout",
     "output_type": "stream",
     "text": [
      "[True, 5, 23.234, 3.55, 'Kiefer is a nerd', {'steve': 'jobs'}, (5, 23, 55), 1, 234, 8.01, '', None, [5, 5, 5, 5, 5, 5, 5, 5, 5, 5, 5, 5, 5, 5, 5, 5, 5, 5, 5, 5], '343434', '5aaaaaa2', 1, 7]\n"
     ]
    }
   ],
   "source": [
    "# Acá hay un pedacito de coódigo para que empieces:\n",
    "def count_types(input):\n",
    "    # Podés usar este método o no\n",
    "    print input\n",
    "\n",
    "example_input = [\n",
    "    True, \n",
    "    5, \n",
    "    23.234, \n",
    "    3.55, \n",
    "    \"Kiefer is a nerd\", \n",
    "    {\"steve\": \"jobs\"}, \n",
    "    (5, 23, 55), \n",
    "    max([1, 0, 1, 1]), \n",
    "    abs(-234), \n",
    "    (5 + 3.01), \n",
    "    \"\",\n",
    "    None,\n",
    "    [5] * 20,\n",
    "    \"343434\",\n",
    "    \"5\" + \"aaaaaa2\",\n",
    "    55 % 3,\n",
    "    5^2\n",
    "]\n",
    "\n",
    "count_types(example_input)\n"
   ]
  },
  {
   "cell_type": "markdown",
   "metadata": {},
   "source": [
    "## Desafío opcional 2 - Imprimiendo el tipo que más se repite\n",
    "\n",
    "Dada una entrada de lista de tipos de elementos mixtos (por ejemplo: * example_input *), imprima el tipo y el recuento más comunes.\n",
    "\n",
    "_Si hay más de un tipo común, imprima ambos._\n",
    "\n",
    "**Input:**\n",
    "\n",
    "    [5, \"Foo\", (2, 4, 5, 100), {\"fox\": \"mammal\"}, False, True, 2.987, \"Bar\"]\n",
    "    \n",
    "**Output:**\n",
    "\n",
    "    string: 2\n",
    "    boolean: 2\n",
    "    \n",
    "    # String y boolean son los que más se repiten: 2"
   ]
  },
  {
   "cell_type": "code",
   "execution_count": 8,
   "metadata": {
    "collapsed": true
   },
   "outputs": [],
   "source": [
    "## Solución aquí"
   ]
  },
  {
   "cell_type": "markdown",
   "metadata": {},
   "source": [
    "## Desafío opcional - Intersección de conteos:\n",
    "\n",
    "Dadas 2 listas de entradas con diferentes tipos de elementos, hacer un print de los tiposque tienen los mismos recuentos de cada lista.\n",
    "\n",
    "_Si hay más de un tipo común, imprima ambos._\n",
    "\n",
    "**Input:**\n",
    "\n",
    "    Input 1:  [5, \"Foo\", (2, 4, 5, 100), {\"monkey\": \"mammal\"}, False, True, 2.987, \"Bar\", {\"snake\": \"reptile\"}]\n",
    "    Input 2:  [\"335\", False, True, \"Maybe\", 105.3, {\"kiefer\": \"nerd\"}, {234: \"value\"}]\n",
    "    \n",
    "**Output:**\n",
    "\n",
    "    strings: 2\n",
    "    booleans: 2\n",
    "    dictionaries: 2\n",
    "    floats: 2\n",
    "    \n",
    "\n",
    "** Explicación **\n",
    "* La primera entrada tiene ** 1 int **, ** 1 float **, ** 2 strings **, ** 1 tuple **, ** 2 diccionarios **, ** 2 booleanos **.\n",
    "* La segunda entrada como ** 2 cadenas **, ** 2 booleanos **, ** 1 float **, ** 2 diccionarios **.\n",
    "* Las cantidades que coinciden son ** cadenas, booleanos, diccionarios, ** y ** flotantes **.\n",
    " "
   ]
  },
  {
   "cell_type": "code",
   "execution_count": 15,
   "metadata": {
    "collapsed": false
   },
   "outputs": [
    {
     "name": "stdout",
     "output_type": "stream",
     "text": [
      "\n",
      "Input1:  [True, 5, 23.234, 3.55, 'Kiefer is a nerd', {'steve': 'jobs'}, (5, 23, 55), 1, 234, 8.01, '', None, [5, 5, 5, 5, 5, 5, 5, 5, 5, 5, 5, 5, 5, 5, 5, 5, 5, 5, 5, 5], '343434', '5aaaaaa2', 1, 7] \n",
      "\n",
      "Input 2:  ['335', False, 'Maybe', 105.3, {'kiefer': 'nerd'}, 4, 12345]\n"
     ]
    }
   ],
   "source": [
    "## Podés reuitilizar el \n",
    "def count_matching_quanities(input1, input2):\n",
    "    # update code here\n",
    "    print \"\\nInput1: \", input1, \"\\n\\nInput 2: \", input2\n",
    "\n",
    "example_input2 = [\n",
    "    \"335\", \n",
    "    False, \n",
    "    \"Maybe\", \n",
    "    105.3, \n",
    "    {\"kiefer\": \"nerd\"}, \n",
    "    4,\n",
    "    12345\n",
    "]\n",
    "\n",
    "count_matching_quanities(example_input, example_input2)"
   ]
  }
 ],
 "metadata": {
  "kernelspec": {
   "display_name": "Python 2",
   "language": "python",
   "name": "python2"
  },
  "language_info": {
   "codemirror_mode": {
    "name": "ipython",
    "version": 2
   },
   "file_extension": ".py",
   "mimetype": "text/x-python",
   "name": "python",
   "nbconvert_exporter": "python",
   "pygments_lexer": "ipython2",
   "version": "2.7.13"
  },
  "toc": {
   "toc_cell": false,
   "toc_number_sections": true,
   "toc_threshold": 6,
   "toc_window_display": false
  }
 },
 "nbformat": 4,
 "nbformat_minor": 0
}
