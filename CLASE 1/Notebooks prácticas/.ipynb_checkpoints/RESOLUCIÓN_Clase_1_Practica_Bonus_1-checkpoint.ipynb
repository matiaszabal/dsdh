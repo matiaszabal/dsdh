{
 "cells": [
  {
   "cell_type": "markdown",
   "metadata": {},
   "source": [
    "# Desafíos Bonus  #1\n",
    "\n",
    "Estos ejercicios son **opcionales**.\n",
    "\n",
    "## Requisitos\n",
    "Para estos desafíos, necesitarás tener un conocimiento básico de Python. Para sacar el máximo provecho debés evitar el uso de bibliotecas (pero sentite libre de usar funciones built-in como: zip()) y tratá de construir soluciones a mano tanto como sea posible. \n",
    "\n",
    "Te alentamos a buscar y utilizar recursos de la web."
   ]
  },
  {
   "cell_type": "markdown",
   "metadata": {},
   "source": [
    "## Desafío opcional 1 - Contando tipos\n",
    "\n",
    "Dada una lista con elementos de distintos tipos, implementá una función que identifique los tipos de elementos e informe de la cantidad de elementos por tipo. La función debe **devolver un diccionario** con la información pedida. \n",
    "\n",
    "**Input:**\n",
    "\n",
    "\n",
    "    [5, \"Foo\", (2, 4, 5, 100), {\"fox\": \"mammal\"}, False, True, 2.987, \"Bar\"]\n",
    "\n",
    "\n",
    "\n",
    "**Output:**\n",
    "\n",
    "    int: 1\n",
    "    float: 1\n",
    "    string: 2\n",
    "    tuple: 1\n",
    "    dict: 1\n",
    "    boolean: 2\n"
   ]
  },
  {
   "cell_type": "code",
   "execution_count": 2,
   "metadata": {},
   "outputs": [
    {
     "name": "stdout",
     "output_type": "stream",
     "text": [
      "{'int': 5, 'float': 3, 'str': 5, 'tuple': 1, 'dict': 1, 'list': 1, 'bool': 1, 'NoneType': 1}\n"
     ]
    }
   ],
   "source": [
    "# Acá hay un pedacito de coódigo para que empieces:\n",
    "def count_types(input):\n",
    "\n",
    "    # diccionario con el recuento de elementos por tipo\n",
    "    count = {'int': 0, 'float': 0, 'str': 0, 'tuple': 0, 'dict': 0, 'list': 0, 'bool': 0, 'NoneType':0}\n",
    "\n",
    "    # recorremos la lista de entrada\n",
    "    for i in input:\n",
    "        #obtenemos el nombre de cada tipo de datos de cada elemento\n",
    "        #print (type(i).__name__)\n",
    "        t = (type(i).__name__)\n",
    "        \n",
    "        #incrementamos el contador para cada tipo en el diccionario de salida\n",
    "        count[t] = count[t] + 1\n",
    "    \n",
    "    #se podría formatear mejor este print\n",
    "    print (str(count))\n",
    "    \n",
    "    #devolvemos el diccionario con los resultados\n",
    "    return count\n",
    "\n",
    "example_input = [\n",
    "    True, \n",
    "    5, \n",
    "    23.234, \n",
    "    3.55, \n",
    "    \"Kiefer is a nerd\", \n",
    "    {\"steve\": \"jobs\"}, \n",
    "    (5, 23, 55), \n",
    "    max([1, 0, 1, 1]), \n",
    "    abs(-234), \n",
    "    (5 + 3.01), \n",
    "    \"\",\n",
    "    None,\n",
    "    [5] * 20,\n",
    "    \"343434\",\n",
    "    \"5\" + \"aaaaaa2\",\n",
    "    55 % 3,\n",
    "    5^2,\n",
    "    \"test\"\n",
    "    \n",
    "]\n",
    "\n",
    "recuento = count_types(example_input)\n"
   ]
  },
  {
   "cell_type": "markdown",
   "metadata": {},
   "source": [
    "## Desafío opcional 2 - Imprimiendo el tipo que más se repite\n",
    "\n",
    "Dada una lista de elementos de diferentes tipos de datos, imprima el/los tipo/s que más se repiten.\n",
    "\n",
    "**Input:**\n",
    "\n",
    "    [5, \"Foo\", (2, 4, 5, 100), {\"fox\": \"mammal\"}, False, True, 2.987, \"Bar\"]\n",
    "    \n",
    "**Output:**\n",
    "\n",
    "    string: 2\n",
    "    boolean: 2\n",
    "    \n",
    "    # String y boolean son los que más se repiten: con 2 elementos cada uno"
   ]
  },
  {
   "cell_type": "code",
   "execution_count": 5,
   "metadata": {},
   "outputs": [
    {
     "name": "stdout",
     "output_type": "stream",
     "text": [
      "(5, 'int')\n",
      "(5, 'str')\n"
     ]
    }
   ],
   "source": [
    "#inverse = [(value, key) for key, value in stats.items()]\n",
    "#print max(inverse)[1]\n",
    "\n",
    "pares = [(v, k) for k, v in recuento.items()]\n",
    "\n",
    "#num máximo de apariciones de elementos de un tipo dado\n",
    "m = max(pares)[0]\n",
    "\n",
    "for i in pares:\n",
    "    if i[0] == m:\n",
    "        print (i)\n",
    "\n"
   ]
  },
  {
   "cell_type": "markdown",
   "metadata": {},
   "source": [
    "## Desafío opcional - Intersección de conteos:\n",
    "\n",
    "Dadas 2 listas de entradas con diferentes tipos de elementos, hacer un print de los tipos con cantidades máximas que coinciden en su recuento.\n",
    "\n",
    "_Si hay más de un tipo común, imprima ambos._\n",
    "\n",
    "**Input:**\n",
    "\n",
    "    Input 1:  [5, \"Foo\", (2, 4, 5, 100), {\"monkey\": \"mammal\"}, False, True, 2.987, \"Bar\", {\"snake\": \"reptile\"}]\n",
    "    Input 2:  [\"335\", False, True, \"Maybe\", 105.3, {\"kiefer\": \"nerd\"}, {234: \"value\"}]\n",
    "    \n",
    "**Output:**\n",
    "\n",
    "    strings: 2\n",
    "    booleans: 2\n",
    "    dictionaries: 2\n",
    "    floats: 2\n",
    "    \n",
    "\n",
    "** Explicación **\n",
    "* La primera lista tiene ** 1 int **, ** 1 float **, ** 2 strings **, ** 1 tupla **, ** 2 diccionarios **, ** 2 booleanos **.\n",
    "* La segunda lista tiene ** 2 strings **, ** 2 booleanos **, ** 1 float **, ** 2 diccionarios **.\n",
    "* Las cantidades máximas que coinciden son ** strings, booleanos, diccionarios, ** y ** flotantes **.\n",
    " "
   ]
  },
  {
   "cell_type": "code",
   "execution_count": 7,
   "metadata": {},
   "outputs": [
    {
     "name": "stdout",
     "output_type": "stream",
     "text": [
      "\n",
      "Input1:  [True, 5, 23.234, 3.55, 'Kiefer is a nerd', {'steve': 'jobs'}, (5, 23, 55), 1, 234, 8.01, '', None, [5, 5, 5, 5, 5, 5, 5, 5, 5, 5, 5, 5, 5, 5, 5, 5, 5, 5, 5, 5], '343434', '5aaaaaa2', 1, 7, 'test'] \n",
      "\n",
      "Input 2:  ['335', False, 'Maybe', 105.3, {'kiefer': 'nerd'}, 4, 12345]\n"
     ]
    }
   ],
   "source": [
    "## Podés reuitilizar el siguiente código para empezar \n",
    "def count_matching_quanities(input1, input2):\n",
    "    # escribí tu solución acá\n",
    "    print (\"\\nInput1: \", input1, \"\\n\\nInput 2: \", input2)\n",
    "\n",
    "example_input2 = [\n",
    "    \"335\", \n",
    "    False, \n",
    "    \"Maybe\", \n",
    "    105.3, \n",
    "    {\"kiefer\": \"nerd\"}, \n",
    "    4,\n",
    "    12345\n",
    "]\n",
    "\n",
    "count_matching_quanities(example_input, example_input2)"
   ]
  },
  {
   "cell_type": "code",
   "execution_count": null,
   "metadata": {
    "collapsed": true
   },
   "outputs": [],
   "source": []
  }
 ],
 "metadata": {
  "kernelspec": {
   "display_name": "Python 3",
   "language": "python",
   "name": "python3"
  },
  "language_info": {
   "codemirror_mode": {
    "name": "ipython",
    "version": 3
   },
   "file_extension": ".py",
   "mimetype": "text/x-python",
   "name": "python",
   "nbconvert_exporter": "python",
   "pygments_lexer": "ipython3",
   "version": "3.6.1"
  },
  "toc": {
   "toc_cell": false,
   "toc_number_sections": true,
   "toc_threshold": 6,
   "toc_window_display": false
  }
 },
 "nbformat": 4,
 "nbformat_minor": 1
}
