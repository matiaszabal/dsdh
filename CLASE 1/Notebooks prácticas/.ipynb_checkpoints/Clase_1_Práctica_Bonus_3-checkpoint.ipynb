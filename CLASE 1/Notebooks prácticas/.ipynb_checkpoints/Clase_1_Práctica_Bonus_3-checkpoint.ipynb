{
 "cells": [
  {
   "cell_type": "markdown",
   "metadata": {
    "focus": true,
    "id": "501db766-46cd-4c2b-b94f-cfb682eab872"
   },
   "source": [
    "# Desafíos Bonus #3\n",
    "\n",
    "Estos ejercicios son completamente **opcionales**.\n",
    "\n",
    "Para complementar lo que estamos viendo en clase relacionado con estructuras de control y funciones, hemos surgido con este desafío divertido para explorar la práctica futher. Aunque no estamos cubriendo específicamente funciones recursivas, pueden ser útiles para evitar la complejidad de la aplicación al implantar procesos repetitivos que prueban condiciones repetitivas. No tienes que usarlas en este ejercicio, pero te sugerimos que intentes resolver los desafíos usando métodos recursivos.\n",
    "\n",
    "[Revisión de funciones recursivas] (http://www.python-course.eu/recursive_functions.php)\n",
    "\n",
    "### Requisitos \n",
    "Para estos desafíos, necesitarás tener un conocimiento básico de Python. Para sacar el máximo provecho debés evitar el uso de bibliotecas (pero sentite libre de usar funciones built-in tipos como: zip ()) y tratar de construir soluciones a mano tanto como sea posible. \n",
    "\n",
    "Sentite libre de buscar y utilizar los recursos en la web."
   ]
  },
  {
   "cell_type": "markdown",
   "metadata": {
    "focus": false,
    "id": "f1fd0d67-6d40-484e-8f8b-b8fe8657c7fa"
   },
   "source": [
    "## Desafío 1 - Adiviná el número\n",
    "\n",
    "En este desafío estaremos recreando uno de los juegos más antiguos. Con el fin de replicar la mecánica del juego tendremos que utilizar estructuras de control:\n",
    "\n",
    "  1. Generar un número aleatorio\n",
    "  2. Solicitar la entrada del usuario\n",
    "  3. Comparar la entrada del usuario con el número generado\n",
    "  4. Comprobar las condiciones ganadoras\n",
    "  5. Respuesta de salida \"demasiado alta\", \"demasiado baja\" o \"Usted es el ganador\"\n",
    "  6. Repetir hasta que el usuario gane\n",
    " \n",
    " \n",
    "**Input**\n",
    "\n",
    "     User prompt para el input numérico\n",
    "     \n",
    "**Output**\n",
    "\n",
    "     \"muy alto\" si user_input > random_number\n",
    "     \"muy bajo\" si user_input < random_number\n",
    "     \"¡Capo! Ganaste\" if user_input == random_number\n",
    "\n",
    "*** El kernel se puede colgar en este tipo de app así que usá \"Kerenel -> Inturrupt\" cuando sea necesario\n"
   ]
  },
  {
   "cell_type": "code",
   "execution_count": null,
   "metadata": {
    "focus": false,
    "id": "8bc09cba-37bc-41f6-9d59-ee0cea9e5ac5"
   },
   "outputs": [],
   "source": [
    "# Puede ser divertido implementar tu propia función de generación de números pseudo-aleatorios \n",
    "# pero para mantener la brevedad te recomendamos usar la siguiente:\n",
    "from random import randint\n",
    "\n",
    "# Aquí está tu número aleatorio\n",
    "random_number = randint(1, 10)\n",
    "\n",
    "# Comentale al usuario en qué va a consistir la experiencia\n",
    "print (\"Es tiempo de empezar a adivinar el número\")\n",
    "\n",
    "# En un notebook esto le va a generar al usuario un prompt para ingresar un número y pausar la ejecución de la app.\n",
    "# Vamos a usar int() para evitar números decimales\n",
    "def play_guess_that_number(random_number):\n",
    "    \n",
    "    user_number = int(input(\"Pick a number between 1-10:  \"))\n",
    "    print (\"You entered:  \", user_number)\n",
    "    ## Acá va tu código\n",
    "\n",
    "# Pasamos el  \"random_number\" para que pueda ser referenciado\n",
    "play_guess_that_number(random_number)\n"
   ]
  },
  {
   "cell_type": "markdown",
   "metadata": {
    "focus": false,
    "id": "ea42436c-eed5-4656-9410-18994247b60a"
   },
   "source": [
    "## Desafío 2 - Adivinando el número  _(Versión mejorada)_\n",
    "\n",
    "Adivinar un número es divertido, pero ¿por qué no indroducimos un elemento de peligro? Vamos a dar al usuario sólo 5 posibilidades de adivinar! Además, imprimí el número de oportunidades que el usuario ha utilizado después de cada suposición. ¡Tomá la función anterior y modificala para estas nuevas funciones!\n",
    "\n",
    "**Input**\n",
    "    \n",
    "    User prompt para el input numérico\n",
    "     \n",
    "**Output**\n",
    "\n",
    "     \"muy alto\" si user_input > random_number\n",
    "     \"muy bajo\" si user_input < random_number\n",
    "     \"¡Capo! Ganaste\" if user_input == random_number\n"
   ]
  },
  {
   "cell_type": "code",
   "execution_count": null,
   "metadata": {
    "focus": false,
    "id": "52174e35-24b5-400a-b9a4-61ba4a13fecc"
   },
   "outputs": [],
   "source": [
    "# Aquí el número aleatorio\n",
    "random_number = randint(1, 10)\n",
    "\n",
    "# Cantidad de cambios permitidos\n",
    "chances_remaining = 4\n",
    "\n",
    "# Cantidad de intentos\n",
    "chances_taken = 0\n",
    "\n",
    "# Comentale al usuario en qué va a consistir la experiencia\n",
    "print (\"Es tiempo de empezar a adivinar el número... PERO AHORA MEJORADO\")\n",
    "\n",
    "# En un notebook esto le va a generar al usuario un prompt para ingresar un número y pausar la ejecución de la app.\n",
    "# Vamos a usar int() para evitar números decimales\n",
    "def play_guess_that_number(random_number, chances_remaining, chances_taken):\n",
    "    \n",
    "    # Incrementar la cantidad de intentos en cada vuelta\n",
    "    chances_taken += 1\n",
    "    \n",
    "    ## Acá va tu código\n",
    "\n",
    "# Pasamos el  \"random_number\" para que pueda ser referenciado\n",
    "play_guess_that_number(random_number, chances_remaining, chances_taken)"
   ]
  },
  {
   "cell_type": "code",
   "execution_count": null,
   "metadata": {
    "collapsed": true
   },
   "outputs": [],
   "source": []
  }
 ],
 "metadata": {
  "kernelspec": {
   "display_name": "Python 3",
   "language": "python",
   "name": "python3"
  },
  "language_info": {
   "codemirror_mode": {
    "name": "ipython",
    "version": 3
   },
   "file_extension": ".py",
   "mimetype": "text/x-python",
   "name": "python",
   "nbconvert_exporter": "python",
   "pygments_lexer": "ipython3",
   "version": "3.6.1"
  }
 },
 "nbformat": 4,
 "nbformat_minor": 1
}
